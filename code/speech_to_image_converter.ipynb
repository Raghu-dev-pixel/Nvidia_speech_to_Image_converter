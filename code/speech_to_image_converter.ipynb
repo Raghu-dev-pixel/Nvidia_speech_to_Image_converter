{
 "cells": [
  {
   "cell_type": "code",
   "execution_count": 1,
   "id": "d694b3e7-c3c2-4ac6-959f-633d93fcd4cd",
   "metadata": {},
   "outputs": [
    {
     "name": "stdout",
     "output_type": "stream",
     "text": [
      "Successfully imported all the libraries\n"
     ]
    }
   ],
   "source": [
    "# Starting point of program execution.\n",
    "## The application receives audio/speech input and generates image as the ouput on the gradio webapp\n",
    "\n",
    "\n",
    "import torch\n",
    "import warnings\n",
    "import gradio as gr\n",
    "import numpy as np\n",
    "from IPython.display import display\n",
    "from transformers import pipeline\n",
    "print(\"Successfully imported all the libraries\")"
   ]
  },
  {
   "cell_type": "code",
   "execution_count": 2,
   "id": "eac89fde-a7f3-461e-9ce2-b630d527f705",
   "metadata": {},
   "outputs": [],
   "source": [
    "#Invoke the Image generator function to convert text to speech\n",
    "#%run image_generator.ipynb\n",
    "%run image_generator.py"
   ]
  },
  {
   "cell_type": "code",
   "execution_count": 3,
   "id": "cc2472c2-afd5-49fa-8a77-07bf7fcd28a7",
   "metadata": {},
   "outputs": [
    {
     "data": {
      "application/vnd.jupyter.widget-view+json": {
       "model_id": "106175c5047b40ebb2f502828abbf8cf",
       "version_major": 2,
       "version_minor": 0
      },
      "text/plain": [
       "config.json:   0%|          | 0.00/1.97k [00:00<?, ?B/s]"
      ]
     },
     "metadata": {},
     "output_type": "display_data"
    },
    {
     "data": {
      "application/vnd.jupyter.widget-view+json": {
       "model_id": "531ffce9ce3f4581ace826e042e37ad3",
       "version_major": 2,
       "version_minor": 0
      },
      "text/plain": [
       "model.safetensors:   0%|          | 0.00/967M [00:00<?, ?B/s]"
      ]
     },
     "metadata": {},
     "output_type": "display_data"
    },
    {
     "data": {
      "application/vnd.jupyter.widget-view+json": {
       "model_id": "a4c387c0d3d24891826b5976e1e638af",
       "version_major": 2,
       "version_minor": 0
      },
      "text/plain": [
       "generation_config.json:   0%|          | 0.00/3.87k [00:00<?, ?B/s]"
      ]
     },
     "metadata": {},
     "output_type": "display_data"
    },
    {
     "data": {
      "application/vnd.jupyter.widget-view+json": {
       "model_id": "c58ff493f1464b178bcdffa9a1c4f812",
       "version_major": 2,
       "version_minor": 0
      },
      "text/plain": [
       "tokenizer_config.json:   0%|          | 0.00/283k [00:00<?, ?B/s]"
      ]
     },
     "metadata": {},
     "output_type": "display_data"
    },
    {
     "data": {
      "application/vnd.jupyter.widget-view+json": {
       "model_id": "48ce1b505a86459db52d6180627f1c09",
       "version_major": 2,
       "version_minor": 0
      },
      "text/plain": [
       "vocab.json:   0%|          | 0.00/836k [00:00<?, ?B/s]"
      ]
     },
     "metadata": {},
     "output_type": "display_data"
    },
    {
     "data": {
      "application/vnd.jupyter.widget-view+json": {
       "model_id": "1673199045ae45dea7331a8650055ca3",
       "version_major": 2,
       "version_minor": 0
      },
      "text/plain": [
       "tokenizer.json:   0%|          | 0.00/2.48M [00:00<?, ?B/s]"
      ]
     },
     "metadata": {},
     "output_type": "display_data"
    },
    {
     "data": {
      "application/vnd.jupyter.widget-view+json": {
       "model_id": "9524f1c9899148bcad760cc43460f9c6",
       "version_major": 2,
       "version_minor": 0
      },
      "text/plain": [
       "merges.txt:   0%|          | 0.00/494k [00:00<?, ?B/s]"
      ]
     },
     "metadata": {},
     "output_type": "display_data"
    },
    {
     "data": {
      "application/vnd.jupyter.widget-view+json": {
       "model_id": "31b609290ad14e6292e174ba85b94cac",
       "version_major": 2,
       "version_minor": 0
      },
      "text/plain": [
       "normalizer.json:   0%|          | 0.00/52.7k [00:00<?, ?B/s]"
      ]
     },
     "metadata": {},
     "output_type": "display_data"
    },
    {
     "data": {
      "application/vnd.jupyter.widget-view+json": {
       "model_id": "88706708d9734958be2e911aac261081",
       "version_major": 2,
       "version_minor": 0
      },
      "text/plain": [
       "added_tokens.json:   0%|          | 0.00/34.6k [00:00<?, ?B/s]"
      ]
     },
     "metadata": {},
     "output_type": "display_data"
    },
    {
     "data": {
      "application/vnd.jupyter.widget-view+json": {
       "model_id": "07cd2f7ac4a845da83aa98e9e07747f2",
       "version_major": 2,
       "version_minor": 0
      },
      "text/plain": [
       "special_tokens_map.json:   0%|          | 0.00/2.19k [00:00<?, ?B/s]"
      ]
     },
     "metadata": {},
     "output_type": "display_data"
    },
    {
     "data": {
      "application/vnd.jupyter.widget-view+json": {
       "model_id": "1929e0042ba649729399156b2841098e",
       "version_major": 2,
       "version_minor": 0
      },
      "text/plain": [
       "preprocessor_config.json:   0%|          | 0.00/185k [00:00<?, ?B/s]"
      ]
     },
     "metadata": {},
     "output_type": "display_data"
    }
   ],
   "source": [
    "warnings.filterwarnings('ignore')\n",
    "# Set device\n",
    "device = \"cuda:0\" if torch.cuda.is_available() else \"cpu\"\n",
    "\n",
    "# Load the ASR pipeline\n",
    "pipe = pipeline(\n",
    "    \"automatic-speech-recognition\",\n",
    "    #model=\"openai/whisper-large\",\n",
    "    model=\"openai/whisper-small\",\n",
    "    chunk_length_s=30,\n",
    "    device=device,\n",
    ")"
   ]
  },
  {
   "cell_type": "code",
   "execution_count": 4,
   "id": "2268b895-eb9b-4569-a05a-18fe3f7ba067",
   "metadata": {},
   "outputs": [],
   "source": [
    "def transcribe(audio):\n",
    "    try:\n",
    "        sr, y = audio\n",
    "    \n",
    "        # Convert to mono if stereo\n",
    "        if y.ndim > 1:\n",
    "            y = y.mean(axis=1)\n",
    "        \n",
    "        y = y.astype(np.float32)\n",
    "        y /= np.max(np.abs(y))\n",
    "\n",
    "        result_text = pipe({\"sampling_rate\": sr, \"raw\": y})[\"text\"]\n",
    "        #print(result_text)\n",
    "        image = image_creation(result_text)\n",
    "        return result_text, image\n",
    "        #return result_text\n",
    "    except Exception as e:\n",
    "        return str(e)"
   ]
  },
  {
   "cell_type": "code",
   "execution_count": 5,
   "id": "1a016edf-e143-4a62-a467-f80ba2a8e95a",
   "metadata": {},
   "outputs": [],
   "source": [
    "demo = gr.Interface(\n",
    "    transcribe,\n",
    "    #gr.Audio(sources=\"microphone\"),\n",
    "    inputs=gr.Audio(type=\"numpy\"),\n",
    "    #outputs=\"text\",\n",
    "    outputs=[gr.Textbox(label=\"Transcription\"),gr.Image(label=\"Image\")],\n",
    "    title=\"Speech to Image Conversion Application\",\n",
    ")"
   ]
  },
  {
   "cell_type": "code",
   "execution_count": 6,
   "id": "f641e939-9c97-473b-8fd6-e747696d0ccf",
   "metadata": {},
   "outputs": [
    {
     "name": "stdout",
     "output_type": "stream",
     "text": [
      "Running on local URL:  http://127.0.0.1:7860\n",
      "Running on public URL: https://01cb5c3546b62e8490.gradio.live\n",
      "\n",
      "This share link expires in 72 hours. For free permanent hosting and GPU upgrades, run `gradio deploy` from Terminal to deploy to Spaces (https://huggingface.co/spaces)\n"
     ]
    },
    {
     "data": {
      "text/html": [
       "<div><iframe src=\"https://01cb5c3546b62e8490.gradio.live\" width=\"100%\" height=\"500\" allow=\"autoplay; camera; microphone; clipboard-read; clipboard-write;\" frameborder=\"0\" allowfullscreen></iframe></div>"
      ],
      "text/plain": [
       "<IPython.core.display.HTML object>"
      ]
     },
     "metadata": {},
     "output_type": "display_data"
    },
    {
     "data": {
      "text/plain": []
     },
     "execution_count": 6,
     "metadata": {},
     "output_type": "execute_result"
    }
   ],
   "source": [
    "demo.launch(share=True)"
   ]
  }
 ],
 "metadata": {
  "kernelspec": {
   "display_name": "Python 3 (ipykernel)",
   "language": "python",
   "name": "python3"
  },
  "language_info": {
   "codemirror_mode": {
    "name": "ipython",
    "version": 3
   },
   "file_extension": ".py",
   "mimetype": "text/x-python",
   "name": "python",
   "nbconvert_exporter": "python",
   "pygments_lexer": "ipython3",
   "version": "3.10.12"
  }
 },
 "nbformat": 4,
 "nbformat_minor": 5
}
